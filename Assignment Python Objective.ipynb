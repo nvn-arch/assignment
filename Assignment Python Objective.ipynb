{
 "cells": [
  {
   "cell_type": "code",
   "execution_count": null,
   "metadata": {},
   "outputs": [],
   "source": [
    "Q1. How can we create an iterator object from a list?\n",
    "Ans- a) Bypassing the given list to the iter() function"
   ]
  },
  {
   "cell_type": "code",
   "execution_count": null,
   "metadata": {},
   "outputs": [],
   "source": [
    "Q2. If the function contains at least of one “yield” statement, then it becomes ______\n",
    "Ans- b) a generator function"
   ]
  },
  {
   "cell_type": "code",
   "execution_count": 5,
   "metadata": {},
   "outputs": [
    {
     "name": "stdout",
     "output_type": "stream",
     "text": [
      "1 9\n"
     ]
    }
   ],
   "source": [
    "# Q3. What is the output of the code?\n",
    "mylist = [1, 3, 6, 10]\n",
    "a = (x**2 for x in mylist)\n",
    "print(next(a), next(a))"
   ]
  },
  {
   "cell_type": "code",
   "execution_count": null,
   "metadata": {},
   "outputs": [],
   "source": [
    "Q4. What are the criteria that must be met to create closure in Python?\n",
    "Ans- a) The program Must have the function inside the function.\n",
    "     b) The nested function must refer to the value defined in the enclosing function.\n",
    "     c) The enclosing function must return the nested"
   ]
  },
  {
   "cell_type": "code",
   "execution_count": 1,
   "metadata": {},
   "outputs": [
    {
     "name": "stdout",
     "output_type": "stream",
     "text": [
      "50\n"
     ]
    }
   ],
   "source": [
    "#Q5. What is the output of the code?\n",
    "def Foo(n):\n",
    "    def multiplier(x):\n",
    "        return x * n\n",
    "    return multiplier\n",
    "a = Foo(5)\n",
    "b = Foo(5)\n",
    "print(a(b(2)))"
   ]
  },
  {
   "cell_type": "code",
   "execution_count": null,
   "metadata": {},
   "outputs": [],
   "source": [
    "Q6. What is the output of the code?\n",
    "1. def make_pretty(func):\n",
    "2. def inner():\n",
    "3. print(\"I got decorated\")\n",
    "4. func()\n",
    "5. return inner\n",
    "6.\n",
    "7. def ordinary():\n",
    "8. print(\"I am ordinary\")\n",
    "9.\n",
    "10. pretty = make_pretty(ordinary)\n",
    "11. pretty()\n",
    "\n",
    "Ans- c) I got decorated\n",
    "        I am ordinary"
   ]
  },
  {
   "cell_type": "code",
   "execution_count": null,
   "metadata": {},
   "outputs": [],
   "source": [
    "Q7: What is the more pythonic way to use getters and setters?\n",
    "Ans- d) property"
   ]
  },
  {
   "cell_type": "code",
   "execution_count": null,
   "metadata": {},
   "outputs": [],
   "source": [
    "Q8. In Python, there is a built-in function property() that returns a property object. The property object has which of the \n",
    "     methods?\n",
    "Ans- b) getter(), setter() and delete()"
   ]
  },
  {
   "cell_type": "code",
   "execution_count": null,
   "metadata": {},
   "outputs": [],
   "source": [
    "Q9. Which of the following statement is true?\n",
    "Ans- d) None of the above"
   ]
  },
  {
   "cell_type": "code",
   "execution_count": null,
   "metadata": {},
   "outputs": [],
   "source": [
    "Q10. For the following codes, which of the following statements is true?\n",
    "\n",
    "def printHello():\n",
    "    print(\"Hello\")\n",
    "a = printHello()\n",
    "Ans- b) Both printHello() and the reference to the same object"
   ]
  },
  {
   "cell_type": "code",
   "execution_count": null,
   "metadata": {},
   "outputs": [],
   "source": [
    "Q11. What is the output of the program?\n",
    "\n",
    "def outerFunction():\n",
    "    global a\n",
    "    a = 20\n",
    "    def innerFunction():\n",
    "        global a\n",
    "        a = 30\n",
    "        print('a =', a)\n",
    "a = 10\n",
    "outerFunction()\n",
    "print('a =', a)\n",
    "\n",
    "Ans- c) a = 20\n"
   ]
  },
  {
   "cell_type": "code",
   "execution_count": null,
   "metadata": {},
   "outputs": [],
   "source": [
    "Q12. Which of the following statements is true?\n",
    "Ans- a) A class is a blueprint for the object.\n",
    "     b) You can only make the single object from the given class"
   ]
  },
  {
   "cell_type": "code",
   "execution_count": null,
   "metadata": {},
   "outputs": [],
   "source": [
    "Q13. What is the output of the code?\n",
    "class Foo:\n",
    " def printLine(self, line='Python'):\n",
    "  print(line)\n",
    "\n",
    "o1 = Foo()\n",
    "o1.printLine('Java')\n",
    "\n",
    "Ans- c) Java"
   ]
  },
  {
   "cell_type": "code",
   "execution_count": null,
   "metadata": {},
   "outputs": [],
   "source": [
    "Q14. What is the function of the __init__() function in Python?\n",
    "Ans- b) This function is called, when the new object is instantiated"
   ]
  },
  {
   "cell_type": "code",
   "execution_count": null,
   "metadata": {},
   "outputs": [],
   "source": [
    "Q15. What is the output of the code?\n",
    "\n",
    "class Point:\n",
    "    def __init__(self, x = 0, y = 0):\n",
    "        self.x = x+1\n",
    "        self.y = y+1\n",
    "p1 = Point()\n",
    "print(p1.x, p1.y)\n",
    "\n",
    "Ans- b) 1 1\n"
   ]
  },
  {
   "cell_type": "code",
   "execution_count": null,
   "metadata": {},
   "outputs": [],
   "source": [
    "Q16. Which of the following code used the inheritance feature?\n",
    "Ans- c)\n",
    "       1. class Foo:\n",
    "       2.   pass\n",
    "       3. class Hoo(Foo):\n",
    "           pass"
   ]
  },
  {
   "cell_type": "code",
   "execution_count": null,
   "metadata": {},
   "outputs": [],
   "source": [
    "Q17 If you a class is derived from two different classes, it’s called  ______\n",
    "Ans- b) Multiple Inheritance\n"
   ]
  },
  {
   "cell_type": "code",
   "execution_count": null,
   "metadata": {},
   "outputs": [],
   "source": [
    "Q18. Which of the following statements is true?\n",
    "Ans- a) In Python, the same operator may behave differently depends upon the operands.\n",
    "     b) You can change the way operators which behave in Python.\n",
    "     c) Special method __add()__ is called when + operator"
   ]
  },
  {
   "cell_type": "code",
   "execution_count": null,
   "metadata": {},
   "outputs": [],
   "source": [
    "Q19. What is the output of the code?\n",
    "\n",
    "class Point:\n",
    "\n",
    "    def __init__(self, x = 0, y = 0):\n",
    "        self.x = x\n",
    "        self.y = y\n",
    "\n",
    "    def __sub__(self, other):\n",
    "        x = self.x + other.x\n",
    "        y = self.y + other.y\n",
    "        return Point(x,y)\n",
    "\n",
    "p1 = Point(3, 4)\n",
    "p2 = Point(1, 2)\n",
    "result = p1-p2\n",
    "print(result.x, result.y)\n",
    "\n",
    "Ans- b) 4 6\n"
   ]
  },
  {
   "cell_type": "code",
   "execution_count": null,
   "metadata": {},
   "outputs": [],
   "source": [
    "Q20. Opening a file in ‘a’ mode\n",
    "Ans- c) opens the file for appending, at the end of file"
   ]
  },
  {
   "cell_type": "code",
   "execution_count": null,
   "metadata": {},
   "outputs": [],
   "source": [
    "Q21. What does the following code do?\n",
    "    f = open(\"test.txt\")\n",
    "Ans- b) Opens test.txt file for reading only"
   ]
  },
  {
   "cell_type": "code",
   "execution_count": null,
   "metadata": {},
   "outputs": [],
   "source": [
    "Q22. Which of the codes closes files automatically if an exception occurs?\n",
    "Ans- c) None of the above"
   ]
  },
  {
   "cell_type": "code",
   "execution_count": null,
   "metadata": {},
   "outputs": [],
   "source": [
    "Q23. For the following code,\n",
    "     1. f = open('test.txt', 'r', encoding = 'utf-8')\n",
    "     2. f.read()\n",
    "        \n",
    "Which of the following statement is true\n",
    "\n",
    "Ans- a) This program reads the content of the test.txt file.\n",
    "     b) If test.txt contains a newline, read() will return the newline as ‘\\n’.\n",
    "     c) You can pass an integer to the read() method\n"
   ]
  },
  {
   "cell_type": "code",
   "execution_count": null,
   "metadata": {},
   "outputs": [],
   "source": [
    "Q24. What does the following code do?\n",
    "\n",
    "     os.listdir()\n",
    "Ans- c) Prints all the directories and files inside the given directory"
   ]
  },
  {
   "cell_type": "code",
   "execution_count": null,
   "metadata": {},
   "outputs": [],
   "source": [
    "Q25. Which of the following is correct?\n",
    "Ans- a) An exception is an error that occurs in the runtime.\n",
    "     b) A syntax error is also an exception.\n",
    "     c) An exception is used to exclude a block of code in python.\n"
   ]
  },
  {
   "cell_type": "code",
   "execution_count": null,
   "metadata": {},
   "outputs": [],
   "source": [
    "Q26. What will happen if we try to open the file that doesn’t exist?\n",
    "Ans- c) An exception is raised."
   ]
  },
  {
   "cell_type": "code",
   "execution_count": null,
   "metadata": {},
   "outputs": [],
   "source": [
    "Q27. What is the output of the code?\n",
    "1. number = 5.0\n",
    "2. try:\n",
    "3. r = 10/number\n",
    "4. print(r)\n",
    "5. except:\n",
    "6. print(\"Oops! Error occurred.\")\n",
    "\n",
    "Ans- b) 2.0"
   ]
  },
  {
   "cell_type": "code",
   "execution_count": null,
   "metadata": {},
   "outputs": [],
   "source": [
    "Q28. What does the following code do?\n",
    "1. try:\n",
    "2. # code that can raise an error\n",
    "3. pass\n",
    "4.\n",
    "5. except (TypeError, ZeroDivisionError):\n",
    "6. print(\"Two\")\n",
    "\n",
    "Ans- c) Prints Two if the TypeError or ZeroDivisionError exception occurs"
   ]
  },
  {
   "cell_type": "code",
   "execution_count": null,
   "metadata": {},
   "outputs": [],
   "source": [
    "Q29. Which of the following statement is true?\n",
    "Ans- b) You can create the user-defined exception by deriving a class from Exception class."
   ]
  },
  {
   "cell_type": "code",
   "execution_count": null,
   "metadata": {},
   "outputs": [],
   "source": [
    "Q30. Which of the following statement is true?\n",
    "Ans- a) Functions are used to create objects in Python.\n",
    "     b) Functions make your program run faster.\n",
    "     c) The function is a piece of code that can perform a specific task."
   ]
  },
  {
   "cell_type": "code",
   "execution_count": null,
   "metadata": {},
   "outputs": [],
   "source": [
    "Q31. What is the output of the code?\n",
    "\n",
    "1. def printLine(text):\n",
    "2. print(text, 'is awesome.')\n",
    "3.\n",
    "4. printLine('Python')\n",
    "\n",
    "Ans- b) Python is awesome"
   ]
  },
  {
   "cell_type": "code",
   "execution_count": null,
   "metadata": {},
   "outputs": [],
   "source": [
    "Q32. If the return statement is not used inside the function, the function will return:\n",
    "Ans- b) None object"
   ]
  },
  {
   "cell_type": "code",
   "execution_count": null,
   "metadata": {},
   "outputs": [],
   "source": [
    "Q33. What is the output of the code?\n",
    "\n",
    "1. def greetPerson(*name):\n",
    "2. print('Hello', name)\n",
    "3.\n",
    "4. greetPerson('Frodo', 'Sauron')\n",
    "\n",
    "Ans- b) Hello ('Frodo', 'Sauron')"
   ]
  },
  {
   "cell_type": "code",
   "execution_count": null,
   "metadata": {},
   "outputs": [],
   "source": [
    "Q34. What is a recursive function?\n",
    "Ans- b) A function that calls itself."
   ]
  },
  {
   "cell_type": "code",
   "execution_count": null,
   "metadata": {},
   "outputs": [],
   "source": [
    "Q35. What is the output of the program?\n",
    "1. result = lambda x: x * x\n",
    "2. print(result(5))\n",
    "\n",
    "Ans- c) 25"
   ]
  },
  {
   "cell_type": "code",
   "execution_count": 6,
   "metadata": {},
   "outputs": [
    {
     "name": "stdout",
     "output_type": "stream",
     "text": [
      "10\n"
     ]
    }
   ],
   "source": [
    "Q36. What is the output of the program?\n",
    "\n",
    "def Foo(x):\n",
    "    if (x==1):\n",
    "        return 1\n",
    "    else:\n",
    "        return x+Foo(x-1)\n",
    "\n",
    "print(Foo(4))\n",
    "\n",
    "Ans- a)  10\n"
   ]
  },
  {
   "cell_type": "code",
   "execution_count": null,
   "metadata": {},
   "outputs": [],
   "source": [
    "Q37. Suppose you need to print pi constant defined in the math module. Which of the following code can do this task?\n",
    "Ans-  c)  1. from math import pi\n",
    "          2. print(pi)\n",
    "\n"
   ]
  },
  {
   "cell_type": "code",
   "execution_count": null,
   "metadata": {},
   "outputs": [],
   "source": [
    "Q38. Which operator is used in Python to import modules from the packages?\n",
    "\n",
    "Ans- a). operator\n"
   ]
  },
  {
   "cell_type": "code",
   "execution_count": null,
   "metadata": {},
   "outputs": [],
   "source": [
    "Q39. What is the output of the code?\n",
    "\n",
    "1. numbers = [1, 3, 6]\n",
    "2. newNumbers = tuple(map(lambda x: x , numbers))\n",
    "3. print(newNumbers)\n",
    "\n",
    "Ans-  b) (1, 3, 6)\n"
   ]
  },
  {
   "cell_type": "code",
   "execution_count": null,
   "metadata": {},
   "outputs": [],
   "source": [
    "Q40. What is the output of the code?\n",
    "\n",
    "1. if None:\n",
    "2. print(“Hello”)\n",
    "\n",
    "Ans- d) Syntax error\n"
   ]
  },
  {
   "cell_type": "code",
   "execution_count": null,
   "metadata": {},
   "outputs": [],
   "source": [
    "Q41. The if-elif-else executes only one block of code among several blocks.\n",
    "Ans- a) True."
   ]
  },
  {
   "cell_type": "code",
   "execution_count": null,
   "metadata": {},
   "outputs": [],
   "source": [
    "Q42. What is the output of the code?\n",
    "\n",
    "1. for i in [1, 0]:\n",
    "2. print(i+1)\n",
    "\n",
    "Ans- a) 2\n",
    "        1"
   ]
  },
  {
   "cell_type": "code",
   "execution_count": null,
   "metadata": {},
   "outputs": [],
   "source": [
    "Q43. In the Python, for and while loop can have the optional else statement?\n",
    "Ans- c) Both loops can have optional else statement"
   ]
  },
  {
   "cell_type": "code",
   "execution_count": null,
   "metadata": {},
   "outputs": [],
   "source": [
    "Q44. What is the output of the code?\n",
    "1.i = sum = 0\n",
    "2.\n",
    "3.while i <= 4:\n",
    "4. sum += i\n",
    "5. i = i+1\n",
    "6.\n",
    "7.print(sum)\n",
    "Ans- b) 10\n"
   ]
  },
  {
   "cell_type": "code",
   "execution_count": null,
   "metadata": {},
   "outputs": [],
   "source": [
    "Q45. What is the output of the code?\n",
    "1. while 4 == 4:\n",
    "2. print('4')\n",
    "Ans- c) 4 is printed infinitely until the program closes"
   ]
  },
  {
   "cell_type": "code",
   "execution_count": null,
   "metadata": {},
   "outputs": [],
   "source": [
    "Q46. Is it better to use the for loop instead of while if we are iterating through a sequence?\n",
    "Ans- b) Yes, for loop is more pythonic choice."
   ]
  },
  {
   "cell_type": "code",
   "execution_count": null,
   "metadata": {},
   "outputs": [],
   "source": [
    "Q47. Which of the following statement is true?\n",
    "Ans- a) “break”- It terminates the loop containing it.\n",
    "     b) “continue” - It is used to skip the rest of the code inside the loops.\n",
    "     c) break and continue: These are almost always used with if, if...else and if...elif...else statements."
   ]
  },
  {
   "cell_type": "code",
   "execution_count": null,
   "metadata": {},
   "outputs": [],
   "source": [
    "Q48. What is the output of the code?\n",
    "1. for char in 'PYTHON STRING':\n",
    "2. if char == ' ':\n",
    "3. break\n",
    "5. print(char, end='')\n",
    "6.\n",
    "7. if char == 'O':\n",
    "8. continue\n",
    "Ans- a) PYTHON"
   ]
  },
  {
   "cell_type": "code",
   "execution_count": null,
   "metadata": {},
   "outputs": [],
   "source": [
    "Q49. Which of the statement is true about the “pass” statement?\n",
    "Ans- c) It is used as the placeholder for future implementation of functions, loops, etc"
   ]
  },
  {
   "cell_type": "code",
   "execution_count": null,
   "metadata": {},
   "outputs": [],
   "source": [
    "Q50. In regards to separated value files such as .csv and .tsv, what is the delimiter?\n",
    "Ans- c) Any character such as the comma (,) or tab (\\t) that is used to separate the column data"
   ]
  },
  {
   "cell_type": "code",
   "execution_count": null,
   "metadata": {},
   "outputs": [],
   "source": [
    "Q51. In separated value files such as .csv and .tsv, what does the first row in the file typically contain?\n",
    "Ans- a) The column names of the data"
   ]
  },
  {
   "cell_type": "code",
   "execution_count": null,
   "metadata": {},
   "outputs": [],
   "source": [
    "Q52. Assume you have a file object my_data, which has properly opened a separated value file that uses the tab character (\\t) \n",
    "as the delimiter.\n",
    "What is the proper way to open the file using the Python CSV module and assign it to the variable csv_reader?\n",
    "Assume that csv has already been imported.\n",
    "\n",
    "Ans- b) csv.reader(my_data, delimiter='\\t')\n"
   ]
  },
  {
   "cell_type": "code",
   "execution_count": null,
   "metadata": {},
   "outputs": [],
   "source": [
    "Q53. When iterating over an object returned from csv.reader(), what is returned with each iteration?\n",
    "For example, given the following code block that assumes csv_reader is an object returned\n",
    "from csv.reader(), what would be printed to the console with each iteration?\n",
    "\n",
    "for item in csv_reader:\n",
    " print(item)\n",
    "\n",
    "Ans- c) The individual value data that is separated by the delimiter"
   ]
  },
  {
   "cell_type": "code",
   "execution_count": null,
   "metadata": {},
   "outputs": [],
   "source": [
    "Q54. When writing to a CSV file using the .writerow() method of the csv.DictWriter object, what must each key in the input \n",
    "dict represent? \n",
    "Below is an example:\n",
    "    \n",
    "with open('test_file.csv', mode='w') as csv_file:\n",
    " writer = csv.DictWriter(\n",
    " csv_file,\n",
    " fieldnames=['first_col', 'second_col']\n",
    " )\n",
    " writer.writeheader()\n",
    " # This input dictionary is what the question is referring\n",
    " # to and is not necessarily correct as shown.\n",
    " writer.writerow({'key1':'value1', 'key2':'value2'})\n",
    "\n",
    "Ans- a) Each key indicates the row index as an integer for where the data should go"
   ]
  },
  {
   "cell_type": "code",
   "execution_count": null,
   "metadata": {},
   "outputs": [],
   "source": [
    "Q55. Which is the correct way to open the CSV file hrdata.csv for reading using the pandas package? Assume that the pandas\n",
    "package has already been imported.\n",
    "Ans- c) pandas.read_csv('hrdata.csv')"
   ]
  },
  {
   "cell_type": "code",
   "execution_count": null,
   "metadata": {},
   "outputs": [],
   "source": [
    "Q56. By default, pandas uses 0-based indices for indexing rows. Which is the correct way to import the CSV file hrdata.csv\n",
    "for reading and using the 'Name' column as the index row instead?\n",
    "\n",
    "Below is the contents of hrdata.csv\n",
    "\n",
    "Name,Hire Date,Salary,Sick Days remaining\n",
    "Fred,10/10/10,10000,10\n",
    "\n",
    "Ans- d) pandas.read_csv('hrdata.csv', index_col=0)\n"
   ]
  },
  {
   "cell_type": "code",
   "execution_count": null,
   "metadata": {},
   "outputs": [],
   "source": [
    "Q57. Given the file dog_breeds.txt, which of the following is the correct way to open the file for reading as a text file? \n",
    "Select all that apply\n",
    "Ans- b) open('dog_breeds.txt', 'r')\n",
    "     c) open('dog_breeds.txt')\n",
    "     e) open('dog_breeds.txt', 'rb')\n"
   ]
  },
  {
   "cell_type": "code",
   "execution_count": null,
   "metadata": {},
   "outputs": [],
   "source": [
    "Q58. Given the following directory structure:\n",
    "animals/\n",
    "│\n",
    "├── feline/\n",
    "│ ├── lions.gif\n",
    "│ └── tigers.gif\n",
    "│\n",
    "├── ursine/\n",
    "│ └── bears.gif\n",
    "│\n",
    "└── animals.csv\n",
    "Assuming that the cwd is in the root folder where animals reside, what is the full path to\n",
    "the feline folder?\n",
    "\n",
    "Ans- Import os\n",
    "     os.chdir( ‘cwd \\Animals\\feline ’ )\n",
    "     os.getcwd()"
   ]
  },
  {
   "cell_type": "code",
   "execution_count": null,
   "metadata": {},
   "outputs": [],
   "source": [
    "Q59. Given the file jack_russell.png, which of the following is the correct way to open the file for reading as a buffered \n",
    "binary file? Select all that apply.\n",
    "Ans- open('jack_russell.png', 'rb')\n"
   ]
  },
  {
   "cell_type": "code",
   "execution_count": null,
   "metadata": {},
   "outputs": [],
   "source": [
    "Q60. Using the same directory structure as before:\n",
    "    \n",
    "animals/\n",
    "│\n",
    "├── feline/\n",
    "│ ├── lions.gif\n",
    "│ └── tigers.gif\n",
    "│\n",
    "├── ursine/\n",
    "│ └── bears.gif\n",
    "│\n",
    "└── animals.csv\n",
    "Assuming that the cwd is in the root folder where Animals reside, what is the full path to the file bears.gif?\n",
    "\n",
    "Ans- Import os¶\n",
    "     os.chdir(‘cwd\\Animals\\ursine’)\n",
    "     os.getcwd()"
   ]
  },
  {
   "cell_type": "code",
   "execution_count": null,
   "metadata": {},
   "outputs": [],
   "source": [
    "Q61. Whenever possible, what is the recommended way to ensure that a file object is properly closed after usage?\n",
    "Ans- a) Making sure that you use the .close() method before the end of the script"
   ]
  },
  {
   "cell_type": "code",
   "execution_count": null,
   "metadata": {},
   "outputs": [],
   "source": [
    "Q62. Using the same directory structure as before:\n",
    "    \n",
    "animals/\n",
    "│\n",
    "├── feline/ ← cwd\n",
    "│ ├── lions.gif\n",
    "│ └── tigers.gif\n",
    "│\n",
    "├── ursine/\n",
    "│ └── bears.gif\n",
    "│\n",
    "└── animals.csv\n",
    "Assuming that the cwd is in the feline folder, what is the relative path to the file bears.gif?\n",
    "\n",
    "Ans- os.path.relpath(‘..\\..feline’, ‘animals\\ursine’)"
   ]
  },
  {
   "cell_type": "code",
   "execution_count": null,
   "metadata": {},
   "outputs": [],
   "source": [
    "Q63. When reading a file using the file object, what method is best for reading the entire file into a single string?\n",
    "Ans- c) .readlines()\n",
    "\n"
   ]
  },
  {
   "cell_type": "code",
   "execution_count": null,
   "metadata": {},
   "outputs": [],
   "source": [
    "Q64. The value 1.73 rounded to one decimal place using the “rounding up” strategy is…\n",
    "\n",
    "Ans- a) 1.8"
   ]
  },
  {
   "cell_type": "code",
   "execution_count": null,
   "metadata": {},
   "outputs": [],
   "source": [
    "Q65. The value -2.961 rounded to two decimal places using the “rounding down” strategy is…\n",
    "Ans- a) -2.96"
   ]
  },
  {
   "cell_type": "code",
   "execution_count": null,
   "metadata": {},
   "outputs": [],
   "source": [
    "Q66. When a value is truncated to 3 decimal places, which of the following is true?\n",
    "Ans- d) Both positive and negative numbers are rounded down"
   ]
  },
  {
   "cell_type": "code",
   "execution_count": null,
   "metadata": {},
   "outputs": [],
   "source": [
    "Q67. The value -0.045 rounded to 2 decimal places using the “round half away from zero” strategy is…\n",
    "Ans- a) -0.05"
   ]
  },
  {
   "cell_type": "code",
   "execution_count": null,
   "metadata": {},
   "outputs": [],
   "source": [
    "Q68. Which rounding strategy does Python’s built-in round() function use?\n",
    "Ans- d) Round half to even"
   ]
  },
  {
   "cell_type": "code",
   "execution_count": null,
   "metadata": {},
   "outputs": [],
   "source": [
    "Q69. The value 4.65 rounded to one decimal place using the “round half to even” strategy is…\n",
    "Ans- b) 4.7"
   ]
  },
  {
   "cell_type": "code",
   "execution_count": null,
   "metadata": {},
   "outputs": [],
   "source": [
    "Q70. Which problem arises due to the multiple inheritances, if hierarchical inheritance is used previously for its base classes?\n",
    "Ans- a) Diamond"
   ]
  },
  {
   "cell_type": "code",
   "execution_count": null,
   "metadata": {},
   "outputs": [],
   "source": [
    "Q71. How many classes should a program contain to implement the multiple inheritances?\n",
    "Ans- c) At least 3"
   ]
  },
  {
   "cell_type": "code",
   "execution_count": null,
   "metadata": {},
   "outputs": [],
   "source": [
    "Q72. If class a inherits class b and class c as “class a: public class b, public class c {// class body ;}; ”, which class \n",
    "    constructor will be called first?\n",
    "Ans- b) Class b"
   ]
  },
  {
   "cell_type": "code",
   "execution_count": null,
   "metadata": {},
   "outputs": [],
   "source": [
    "Q73.If all the members of all base classes are private then,\n",
    "Ans- a) There won’t be any use of multiple inheritance"
   ]
  },
  {
   "cell_type": "code",
   "execution_count": null,
   "metadata": {},
   "outputs": [],
   "source": [
    "Q74. Can the derived class be made abstract if multiple inheritance is used?\n",
    "Ans- d) No, since constructors won’t be there"
   ]
  },
  {
   "cell_type": "code",
   "execution_count": null,
   "metadata": {},
   "outputs": [],
   "source": [
    "Q75. Which among the following best defines the multilevel inheritance?\n",
    "Ans- b) Classes being derived from other derived classes"
   ]
  },
  {
   "cell_type": "code",
   "execution_count": null,
   "metadata": {},
   "outputs": [],
   "source": [
    "Q76. If there are 5 classes, E is derived from D, D from C, C from B and B from A. Which class constructor will be called \n",
    "     first if the object of E or D is created?\n",
    "     Ans- a) A"
   ]
  },
  {
   "cell_type": "code",
   "execution_count": null,
   "metadata": {},
   "outputs": [],
   "source": [
    "Q77. Which Class is having the highest degree of abstraction in multilevel inheritance of 5 levels?\n",
    "Ans- a) Class at 1st level"
   ]
  },
  {
   "cell_type": "code",
   "execution_count": null,
   "metadata": {},
   "outputs": [],
   "source": [
    "Q78. Multilevel inheritance allows _________________ in the program.\n",
    "Ans- d) As many levels of inheritance as required"
   ]
  },
  {
   "cell_type": "code",
   "execution_count": null,
   "metadata": {},
   "outputs": [],
   "source": [
    "Q79. If all the classes used parameterized constructors and no default constructor then, ___________\n",
    "Ans- b) Object of lower-level classes must call parent class constructors explicitly"
   ]
  },
  {
   "cell_type": "code",
   "execution_count": null,
   "metadata": {},
   "outputs": [],
   "source": [
    "Q80. Which is the universal exception handler class?\n",
    "Ans- d) Exceptions"
   ]
  },
  {
   "cell_type": "code",
   "execution_count": null,
   "metadata": {},
   "outputs": [],
   "source": [
    "Q81. What are two exception classes in the hierarchy of java exceptions class?\n",
    "Ans- c) Runtime exceptions and other exceptions"
   ]
  },
  {
   "cell_type": "code",
   "execution_count": null,
   "metadata": {},
   "outputs": [],
   "source": [
    "Q82. Which are the two blocks that are used to check error and handle the error?\n",
    "Ans- a) Try and catch"
   ]
  },
  {
   "cell_type": "code",
   "execution_count": null,
   "metadata": {},
   "outputs": [],
   "source": [
    "Q83. To catch the exceptions ___________________\n",
    "Ans- a) An object must be created to catch the exception"
   ]
  },
  {
   "cell_type": "code",
   "execution_count": null,
   "metadata": {},
   "outputs": [],
   "source": [
    "Q84. Which class is used to handle the input and output exceptions?\n",
    "Ans- c) IOExceptions"
   ]
  },
  {
   "cell_type": "code",
   "execution_count": null,
   "metadata": {},
   "outputs": [],
   "source": [
    "Q85. Which among the following is true for the class exceptions?\n",
    "Ans-d) Both base class and derived class may produce exceptions"
   ]
  },
  {
   "cell_type": "code",
   "execution_count": null,
   "metadata": {},
   "outputs": [],
   "source": [
    "Q86. If both base and derived class caught the exceptions, _____.\n",
    "Ans-a) Then catch block of a derived class must be defined before the base class"
   ]
  },
  {
   "cell_type": "code",
   "execution_count": null,
   "metadata": {},
   "outputs": [],
   "source": [
    "Q87. The catching of base class the exception _________ in java.\n",
    "Ans- b) Before derived class is not allowed by the compiler\n"
   ]
  },
  {
   "cell_type": "code",
   "execution_count": null,
   "metadata": {},
   "outputs": [],
   "source": [
    "Q88. Which of the following handles the undefined class in the program?\n",
    "Ans- d) ClassNotFoundException"
   ]
  },
  {
   "cell_type": "code",
   "execution_count": null,
   "metadata": {},
   "outputs": [],
   "source": [
    "Q89. Which among the following is true?\n",
    "Ans- c) Both the base and derived class catch the blocks are important"
   ]
  },
  {
   "cell_type": "code",
   "execution_count": null,
   "metadata": {},
   "outputs": [],
   "source": [
    "Q90. Which condition among the following might result in memory exception?\n",
    "Ans- c) Infinite loops"
   ]
  },
  {
   "cell_type": "code",
   "execution_count": null,
   "metadata": {},
   "outputs": [],
   "source": [
    "Q91. Which among the following is the correct definition for static member functions?\n",
    "Ans- b) Functions made to maintain a single copy of member functions for all the objects\n"
   ]
  },
  {
   "cell_type": "code",
   "execution_count": null,
   "metadata": {},
   "outputs": [],
   "source": [
    "Q92. The static member functions __________________\n",
    "Ans-c) Having access to only the static members of a class."
   ]
  },
  {
   "cell_type": "code",
   "execution_count": null,
   "metadata": {},
   "outputs": [],
   "source": [
    "Q93. Which is the correct syntax to access the static member functions with a class name?\n",
    "Ans- c) className : functionName;"
   ]
  },
  {
   "cell_type": "code",
   "execution_count": null,
   "metadata": {},
   "outputs": [],
   "source": [
    "Q94. The static members are ______________________\n",
    "Ans- d) Created and initialised, only once"
   ]
  },
  {
   "cell_type": "code",
   "execution_count": null,
   "metadata": {},
   "outputs": [],
   "source": [
    "Q95. Which among the following is true?\n",
    "Ans- b) Static member functions can’t be overloaded."
   ]
  },
  {
   "cell_type": "code",
   "execution_count": null,
   "metadata": {},
   "outputs": [],
   "source": [
    "Q96. The static member functions _______________\n",
    "Ans- d) Can’t be declared const, volatile, or constant volatile."
   ]
  },
  {
   "cell_type": "code",
   "execution_count": null,
   "metadata": {},
   "outputs": [],
   "source": [
    "Q97. Which among the following can’t be used to access the members in anyway?\n",
    "Ans- c) Single colon."
   ]
  },
  {
   "cell_type": "code",
   "execution_count": null,
   "metadata": {},
   "outputs": [],
   "source": [
    "Q98. If static data member are made inline, ______________\n",
    "Ans- c) Those can be initialised within the class."
   ]
  },
  {
   "cell_type": "code",
   "execution_count": null,
   "metadata": {},
   "outputs": [],
   "source": [
    "Q99. The static data member _________________\n",
    "Ans-b) Can’t be mutable."
   ]
  },
  {
   "cell_type": "code",
   "execution_count": null,
   "metadata": {},
   "outputs": [],
   "source": [
    "Q100. We can use the static member functions and static data member _________________\n",
    "Ans- a) Even if a class object is not created"
   ]
  },
  {
   "cell_type": "code",
   "execution_count": null,
   "metadata": {},
   "outputs": [],
   "source": [
    "Q101. Point out the wrong statement:\n",
    "Ans- c) rPy provides lots of scientific routines that work on top of NumPy."
   ]
  },
  {
   "cell_type": "code",
   "execution_count": null,
   "metadata": {},
   "outputs": [],
   "source": [
    "Q102. The ________ function returns its argument with the modified shape, whereas the ________ method modifies the array itself.\n",
    "Ans- a) reshape, resize."
   ]
  },
  {
   "cell_type": "code",
   "execution_count": null,
   "metadata": {},
   "outputs": [],
   "source": [
    "Q103. To create sequences of the numbers, NumPy provides a function__________ analogous to range that returns arrays instead \n",
    "      of lists.\n",
    "      Ans- a) arrange.\n"
   ]
  },
  {
   "cell_type": "code",
   "execution_count": null,
   "metadata": {},
   "outputs": [],
   "source": [
    "Q104. Point out the correct statement:\n",
    "Ans- a) NumPy main object is the Homogeneous -Multidimensional array.\n",
    "     b) In Numpy, dimensions are called axes.\n",
    "     c) Numpy array class is called ndarray.\n"
   ]
  },
  {
   "cell_type": "code",
   "execution_count": null,
   "metadata": {},
   "outputs": [],
   "source": [
    "Q105. Which of the following function stack 1D array as the columns into the 2D array?\n",
    "Ans- b) column_stack."
   ]
  },
  {
   "cell_type": "code",
   "execution_count": null,
   "metadata": {},
   "outputs": [],
   "source": [
    "Q106. ndarray is also known as an alias array.\n",
    "Ans- a) True"
   ]
  },
  {
   "cell_type": "code",
   "execution_count": null,
   "metadata": {},
   "outputs": [],
   "source": [
    "Q107. Which of the following method creates the new array object that looks at the same data?\n",
    "Ans- a) view"
   ]
  },
  {
   "cell_type": "code",
   "execution_count": null,
   "metadata": {},
   "outputs": [],
   "source": [
    "Q108. Which of the functions can be used to combine the different vectors to obtain the result for each n-uplet?\n",
    "Ans- b) ix_."
   ]
  },
  {
   "cell_type": "code",
   "execution_count": null,
   "metadata": {},
   "outputs": [],
   "source": [
    "Q109. ndarray.dataitemSize is the buffer containing actual elements of an array.\n",
    "Ans- a) True"
   ]
  },
  {
   "cell_type": "code",
   "execution_count": null,
   "metadata": {},
   "outputs": [],
   "source": [
    "Q110. Which of the following is in the NumPy library?\n",
    "Ans- a) The n-dimensional array object\n",
    "     b) The tools for integrating C/C++ and the Fortran code\n",
    "     c) Fourier transform"
   ]
  },
  {
   "cell_type": "code",
   "execution_count": null,
   "metadata": {},
   "outputs": [],
   "source": [
    "Q111. Which of the following sets the size of the buffer used in ufuncs ?\n",
    "Ans- c) setbufsize(size)\n"
   ]
  },
  {
   "cell_type": "code",
   "execution_count": null,
   "metadata": {},
   "outputs": [],
   "source": [
    "Q112. Point out the wrong statement:\n",
    "Ans- b) In Numpy, universal functions are the instances of numpy.ufunction class"
   ]
  },
  {
   "cell_type": "code",
   "execution_count": null,
   "metadata": {},
   "outputs": [],
   "source": [
    "Q113. Which of the following attribute should be used while checking the type combination input and output?\n",
    "Ans- a) .types"
   ]
  },
  {
   "cell_type": "code",
   "execution_count": null,
   "metadata": {},
   "outputs": [],
   "source": [
    "Q114. Which of the following returns an array of “ones” with the same shape and type as a given array?\n",
    "Ans- b) ones_like"
   ]
  },
  {
   "cell_type": "code",
   "execution_count": null,
   "metadata": {},
   "outputs": [],
   "source": [
    "Q115. Point out the wrong statement:\n",
    "Ans- c) The output of the ufunc is necessarily a ndarray, if all the input arguments are ndarrays"
   ]
  },
  {
   "cell_type": "code",
   "execution_count": null,
   "metadata": {},
   "outputs": [],
   "source": [
    "Q116. Which of the following set of a floating-point error callback function or a log object?\n",
    "Ans- b) settercall."
   ]
  },
  {
   "cell_type": "code",
   "execution_count": null,
   "metadata": {},
   "outputs": [],
   "source": [
    "Q117. Some ufuncs can take output arguments.\n",
    "Ans- b) False"
   ]
  },
  {
   "cell_type": "code",
   "execution_count": null,
   "metadata": {},
   "outputs": [],
   "source": [
    "Q118. ___________ decompose the elements of x into the mantissa and the two’s exponent.\n",
    "Ans- c) frexp"
   ]
  },
  {
   "cell_type": "code",
   "execution_count": null,
   "metadata": {},
   "outputs": [],
   "source": [
    "Q119. Which of the following function take the only a single value as input?\n",
    "Ans- a) iscomplex."
   ]
  },
  {
   "cell_type": "code",
   "execution_count": null,
   "metadata": {},
   "outputs": [],
   "source": [
    "Q120. The array object returned by the _array_prepare_ is passed to ufunc for computation.\n",
    "Ans- a) True"
   ]
  },
  {
   "cell_type": "code",
   "execution_count": null,
   "metadata": {},
   "outputs": [],
   "source": [
    "Q121. All pandas data structures are ___mutable but not always _______-mutable.\n",
    "Ans- c) value,size.\n"
   ]
  },
  {
   "cell_type": "code",
   "execution_count": null,
   "metadata": {},
   "outputs": [],
   "source": [
    "Q122. Point out the correct statement:\n",
    "Abs- a) Pandas consist of a set of the labelled array data structures\n",
    "     b) Pandas consist of an integrated group by the engine for aggregating and the transforming data sets\n",
    "     c) Pandas consist of moving window statistics"
   ]
  },
  {
   "cell_type": "code",
   "execution_count": null,
   "metadata": {},
   "outputs": [],
   "source": [
    "Q123. Which of the following statement will import the pandas?\n",
    "Ans- a) import pandas as pd"
   ]
  },
  {
   "cell_type": "code",
   "execution_count": null,
   "metadata": {},
   "outputs": [],
   "source": [
    "Q124. Which of the following object did we get after reading the CSV file?\n",
    "Ans- a) DataFrame."
   ]
  },
  {
   "cell_type": "code",
   "execution_count": null,
   "metadata": {},
   "outputs": [],
   "source": [
    "Q125. Point out the wrong statement:\n",
    "Ans- c) The panel is generally 2D labelled, also a size-mutable array."
   ]
  },
  {
   "cell_type": "code",
   "execution_count": null,
   "metadata": {},
   "outputs": [],
   "source": [
    "Q126. Which of the following library is similar to the pandas?\n",
    "Ans- a) numpy."
   ]
  },
  {
   "cell_type": "code",
   "execution_count": null,
   "metadata": {},
   "outputs": [],
   "source": [
    "Q127. Panel is a container for the Series, and DataFrame is a container for DataFrame objects.\n",
    "Ans- b) False"
   ]
  },
  {
   "cell_type": "code",
   "execution_count": null,
   "metadata": {},
   "outputs": [],
   "source": [
    "Q128. Which of the following is the prominent python “statistics and econometrics library”?\n",
    "Ans- c) Statsmodels."
   ]
  },
  {
   "cell_type": "code",
   "execution_count": null,
   "metadata": {},
   "outputs": [],
   "source": [
    "Q129. Which of the following is the foundational exploratory visualisation package for the R language in the pandas ecosystem?\n",
    "Ans- a) yhat."
   ]
  },
  {
   "cell_type": "code",
   "execution_count": null,
   "metadata": {},
   "outputs": [],
   "source": [
    "Q130. Pandas consist of static and the moving window linear and panel regression.\n",
    "Ans- a) True"
   ]
  },
  {
   "cell_type": "code",
   "execution_count": null,
   "metadata": {},
   "outputs": [],
   "source": [
    "Q131. Quandl API for Python wraps the __ REST API to returns the pandas DataFrames with time series indexes.\n",
    "Ans- a) Quandl"
   ]
  },
  {
   "cell_type": "code",
   "execution_count": null,
   "metadata": {},
   "outputs": [],
   "source": [
    "Q132. Point out the correct statement:\n",
    "Ans- a) Statsmodels provides powerful statistics, econometrics, analysis and the modelling functionality which is out of \n",
    "        pandas’ scope\n"
   ]
  },
  {
   "cell_type": "code",
   "execution_count": null,
   "metadata": {},
   "outputs": [],
   "source": [
    "Q133.Which of the following library is used to retrieve and to acquire statistical data and metadata disseminated in SDMX 2.1?\n",
    "Ans- a) pandaSDMX"
   ]
  },
  {
   "cell_type": "code",
   "execution_count": null,
   "metadata": {},
   "outputs": [],
   "source": [
    "Q134. Which of the following provides the standard API for doing computations with MongoDB?\n",
    "Ans- a) Blaze"
   ]
  },
  {
   "cell_type": "code",
   "execution_count": null,
   "metadata": {},
   "outputs": [],
   "source": [
    "Q135. Point out the wrong statement:\n",
    "Ans- c) Spyder is a cross-platform Qt-based open-source R IDE\n",
    " "
   ]
  },
  {
   "cell_type": "code",
   "execution_count": null,
   "metadata": {},
   "outputs": [],
   "source": [
    "Q136. Which of the following makes use of the pandas and returns data in a Series or DataFrame?\n",
    "Ans- b) freedapi."
   ]
  },
  {
   "cell_type": "code",
   "execution_count": null,
   "metadata": {},
   "outputs": [],
   "source": [
    "Q137. Spyder can introspect and display Pandas DataFrames.\n",
    "Ans- b) False"
   ]
  },
  {
   "cell_type": "code",
   "execution_count": null,
   "metadata": {},
   "outputs": [],
   "source": [
    "Q138. Which of the following is used for machine learning in the python?\n",
    "Ans- a) sci-kit-learn."
   ]
  },
  {
   "cell_type": "code",
   "execution_count": null,
   "metadata": {},
   "outputs": [],
   "source": [
    "Q139. The ________ project builds on top of the pandas and matplotlib to provide easy plotting of data.\n",
    "Ans- b) Seaborn."
   ]
  },
  {
   "cell_type": "code",
   "execution_count": null,
   "metadata": {},
   "outputs": [],
   "source": [
    "Q140 x-ray brings the labelled data power of pandas to the physical sciences.\n",
    "Ans- a) True"
   ]
  },
  {
   "cell_type": "code",
   "execution_count": null,
   "metadata": {},
   "outputs": [],
   "source": [
    "Q141. Which of the following is the base layer of all of the sparse has it indexed data structures?\n",
    "Ans- b) SparseArray."
   ]
  },
  {
   "cell_type": "code",
   "execution_count": null,
   "metadata": {},
   "outputs": [],
   "source": [
    "Q142. Point out the correct statement.\n",
    "Ans- a) All of the standard pandas data structures have to_sparse method\n",
    "     b) Any sparse object can be converted back to the standard dense form by calling the to_dense\n",
    "     c) The sparse objects exist for memory efficiency reasons."
   ]
  },
  {
   "cell_type": "code",
   "execution_count": null,
   "metadata": {},
   "outputs": [],
   "source": [
    "Q143. Which of the following is not an indexed object?\n",
    "Ans- d) None of the mentioned."
   ]
  },
  {
   "cell_type": "code",
   "execution_count": null,
   "metadata": {},
   "outputs": [],
   "source": [
    "Q144. Which of the following list like data structure is used for managing the dynamic collection of SparseArrays?\n",
    "Ans- a) SparseList."
   ]
  },
  {
   "cell_type": "code",
   "execution_count": null,
   "metadata": {},
   "outputs": [],
   "source": [
    "Q145. Point out the wrong statement.\n",
    "Ans- a) to_array. append can accept scalar values or any 2-D sequence."
   ]
  },
  {
   "cell_type": "code",
   "execution_count": null,
   "metadata": {},
   "outputs": [],
   "source": [
    "Q146. Which of the following method used for transforming the Sparse-series index by the MultiIndex to a scipy. \n",
    "      sparse.coo_matrix?\n",
    "Ans- a) SparseSeries.to_coo()."
   ]
  },
  {
   "cell_type": "code",
   "execution_count": null,
   "metadata": {},
   "outputs": [],
   "source": [
    "Q147. The integer format tracks only the locations and the sizes of blocks of data.\n",
    "Ans- b) False"
   ]
  },
  {
   "cell_type": "code",
   "execution_count": null,
   "metadata": {},
   "outputs": [],
   "source": [
    "Q148. Which of the following is used for the testing for membership in the list of column names?\n",
    "Ans- a) in."
   ]
  },
  {
   "cell_type": "code",
   "execution_count": null,
   "metadata": {},
   "outputs": [],
   "source": [
    "Q149. Which of the following indexing capabilities is used as the concise means of selecting data from a pandas object?\n",
    "Ans- b) ix."
   ]
  },
  {
   "cell_type": "code",
   "execution_count": null,
   "metadata": {},
   "outputs": [],
   "source": [
    "Q150. Pandas follow the NumPy convention of raising an error when you try to convert something to a bool.\n",
    "Ans- a) True"
   ]
  }
 ],
 "metadata": {
  "kernelspec": {
   "display_name": "Python 3",
   "language": "python",
   "name": "python3"
  },
  "language_info": {
   "codemirror_mode": {
    "name": "ipython",
    "version": 3
   },
   "file_extension": ".py",
   "mimetype": "text/x-python",
   "name": "python",
   "nbconvert_exporter": "python",
   "pygments_lexer": "ipython3",
   "version": "3.7.4"
  }
 },
 "nbformat": 4,
 "nbformat_minor": 2
}
