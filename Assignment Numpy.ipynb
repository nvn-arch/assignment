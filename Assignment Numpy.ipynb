{
 "cells": [
  {
   "cell_type": "markdown",
   "metadata": {},
   "source": [
    "Problem Statement 1"
   ]
  },
  {
   "cell_type": "raw",
   "metadata": {},
   "source": [
    "Write a function so that the columns of the output matrix are powers of the input vector.\n",
    "\n",
    "The order of the powers is determined by the increasing boolean argument. Specifically, when\n",
    "increasing is False, the i-th output column is the input vector raised element-wise to the power\n",
    "of N - i - 1.\n",
    "\n",
    "HINT: Such a matrix with a geometric progression in each row is named for AlexandreTheophile Vandermonde."
   ]
  },
  {
   "cell_type": "code",
   "execution_count": 2,
   "metadata": {},
   "outputs": [
    {
     "data": {
      "text/plain": [
       "array([[ 1,  1,  1,  1],\n",
       "       [ 8,  4,  2,  1],\n",
       "       [27,  9,  3,  1],\n",
       "       [64, 16,  4,  1]])"
      ]
     },
     "execution_count": 2,
     "metadata": {},
     "output_type": "execute_result"
    }
   ],
   "source": [
    "import numpy as np\n",
    "np.vander([1,2,3,4])"
   ]
  },
  {
   "cell_type": "code",
   "execution_count": null,
   "metadata": {},
   "outputs": [],
   "source": []
  },
  {
   "cell_type": "code",
   "execution_count": 3,
   "metadata": {},
   "outputs": [],
   "source": [
    "import numpy as np"
   ]
  },
  {
   "cell_type": "code",
   "execution_count": 4,
   "metadata": {},
   "outputs": [],
   "source": [
    "def alex_theo_vande(input_vector,n,increasing=False):\n",
    "    if not increasing:\n",
    "        op_matx = np.array([x**(n-1-i) for x in input_vector for i in range(n)]).reshape(input_vector.size,n)\n",
    "    elif increasing:\n",
    "        op_matx = np.array([x**i for x in input_vector for i in range(n)]).reshape(input_vector.size,n)\n",
    "    return op_matx"
   ]
  },
  {
   "cell_type": "code",
   "execution_count": 8,
   "metadata": {},
   "outputs": [
    {
     "name": "stdout",
     "output_type": "stream",
     "text": [
      "[[ 1  1  1]\n",
      " [ 4  2  1]\n",
      " [ 9  3  1]\n",
      " [16  4  1]\n",
      " [25  5  1]]\n"
     ]
    }
   ],
   "source": [
    "input_vector = np.array([1,2,3,4,5])\n",
    "no_col = 3\n",
    "dec_order = alex_theo_vande(input_vector,no_col,False)\n",
    "inc_order = alex_theo_vande(input_vector,no_col,True)\n",
    "print(dec_order)\n"
   ]
  },
  {
   "cell_type": "code",
   "execution_count": 9,
   "metadata": {},
   "outputs": [
    {
     "name": "stdout",
     "output_type": "stream",
     "text": [
      "[[ 1  1  1]\n",
      " [ 1  2  4]\n",
      " [ 1  3  9]\n",
      " [ 1  4 16]\n",
      " [ 1  5 25]]\n"
     ]
    }
   ],
   "source": [
    "print(inc_order)"
   ]
  },
  {
   "cell_type": "markdown",
   "metadata": {},
   "source": [
    "Problem Statement 2\n"
   ]
  },
  {
   "cell_type": "raw",
   "metadata": {},
   "source": [
    "Given a sequence of n values x1, x2, ..., xn and a window size k>0, the k-th moving average of\n",
    "the given sequence is defined as follows:\n",
    "    \n",
    "The moving average sequence has n-k+1 elements as shown below.\n",
    "\n",
    "The moving averages with k=4 of a ten-value sequence (n=10) is shown below\n",
    "\n",
    "           i 1 2 3 4 5 6 7 8 9 10\n",
    "          ===== == == == == == == == == == ==\n",
    "          Input 10 20 30 40 50 60 70 80 90 100\n",
    "          y1 25 = (10+20+30+40)/4\n",
    "          y2 35 = (20+30+40+50)/4\n",
    "          y3 45 = (30+40+50+60)/4\n",
    "          y4 55 = (40+50+60+70)/4\n",
    "          y5 65 = (50+60+70+80)/4\n",
    "          y6 75 = (60+70+80+90)/4\n",
    "          y7 85 = (70+80+90+100)/4\n",
    "\n",
    "Thus, the moving average sequence has n-k+1=10-4+1=7 values\n",
    "\n",
    "\n",
    "Question: Write a function to find moving average in an array over a window:\n",
    "          Test it over [3, 5, 7, 2, 8, 10, 11, 65, 72, 81, 99, 100, 150] and window of 3."
   ]
  },
  {
   "cell_type": "code",
   "execution_count": 2,
   "metadata": {},
   "outputs": [],
   "source": [
    "def moving_average(arr=None,window=None):\n",
    "    n=len(arr)\n",
    "    k=window\n",
    "    result=[round(sum(arr[i:i+k])/k,2) for i in range(n-k+1)]\n",
    "    \n",
    "    for idx, val in enumerate(result):\n",
    "        print(f\"y{idx+1:02d} {val}\")\n",
    "    return result"
   ]
  },
  {
   "cell_type": "code",
   "execution_count": 5,
   "metadata": {},
   "outputs": [
    {
     "name": "stdout",
     "output_type": "stream",
     "text": [
      "y01 25.0\n",
      "y02 35.0\n",
      "y03 45.0\n",
      "y04 55.0\n",
      "y05 65.0\n",
      "y06 75.0\n",
      "y07 85.0\n",
      "[25.0, 35.0, 45.0, 55.0, 65.0, 75.0, 85.0]\n"
     ]
    }
   ],
   "source": [
    "arr2=[10,20,30,40,50,60,70,80,90,100]\n",
    "result1=moving_average(arr=arr2,window=4)\n",
    "print(result1)"
   ]
  },
  {
   "cell_type": "code",
   "execution_count": 7,
   "metadata": {},
   "outputs": [
    {
     "name": "stdout",
     "output_type": "stream",
     "text": [
      "y01 5.0\n",
      "y02 4.67\n",
      "y03 5.67\n",
      "y04 6.67\n",
      "y05 9.67\n",
      "y06 28.67\n",
      "y07 49.33\n",
      "y08 72.67\n",
      "y09 84.0\n",
      "y10 93.33\n",
      "y11 116.33\n",
      "[5.0, 4.67, 5.67, 6.67, 9.67, 28.67, 49.33, 72.67, 84.0, 93.33, 116.33]\n"
     ]
    }
   ],
   "source": [
    "arr3=[3, 5, 7, 2, 8, 10, 11, 65, 72, 81, 99, 100, 150]\n",
    "result2=moving_average(arr=arr3,window=3)\n",
    "print(result2)"
   ]
  },
  {
   "cell_type": "code",
   "execution_count": null,
   "metadata": {},
   "outputs": [],
   "source": []
  },
  {
   "cell_type": "code",
   "execution_count": null,
   "metadata": {},
   "outputs": [],
   "source": []
  },
  {
   "cell_type": "code",
   "execution_count": null,
   "metadata": {},
   "outputs": [],
   "source": []
  }
 ],
 "metadata": {
  "kernelspec": {
   "display_name": "Python 3",
   "language": "python",
   "name": "python3"
  },
  "language_info": {
   "codemirror_mode": {
    "name": "ipython",
    "version": 3
   },
   "file_extension": ".py",
   "mimetype": "text/x-python",
   "name": "python",
   "nbconvert_exporter": "python",
   "pygments_lexer": "ipython3",
   "version": "3.7.4"
  }
 },
 "nbformat": 4,
 "nbformat_minor": 2
}
